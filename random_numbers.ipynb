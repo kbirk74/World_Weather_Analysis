{
 "cells": [
  {
   "cell_type": "code",
   "execution_count": 1,
   "id": "happy-knock",
   "metadata": {},
   "outputs": [],
   "source": [
    "# importthe random module.\n",
    "import random"
   ]
  },
  {
   "cell_type": "code",
   "execution_count": 4,
   "id": "distributed-wrist",
   "metadata": {},
   "outputs": [
    {
     "data": {
      "text/plain": [
       "76"
      ]
     },
     "execution_count": 4,
     "metadata": {},
     "output_type": "execute_result"
    }
   ],
   "source": [
    "random.randint(-90, 90)"
   ]
  },
  {
   "cell_type": "code",
   "execution_count": 5,
   "id": "hydraulic-consultation",
   "metadata": {},
   "outputs": [
    {
     "data": {
      "text/plain": [
       "0.4015484498936701"
      ]
     },
     "execution_count": 5,
     "metadata": {},
     "output_type": "execute_result"
    }
   ],
   "source": [
    "random.random()"
   ]
  },
  {
   "cell_type": "code",
   "execution_count": 8,
   "id": "bearing-shelf",
   "metadata": {},
   "outputs": [
    {
     "data": {
      "text/plain": [
       "61.83851187480948"
      ]
     },
     "execution_count": 8,
     "metadata": {},
     "output_type": "execute_result"
    }
   ],
   "source": [
    "random_number = random.randint(-90, 89) + random.random()\n",
    "random_number"
   ]
  },
  {
   "cell_type": "code",
   "execution_count": 9,
   "id": "significant-bullet",
   "metadata": {},
   "outputs": [],
   "source": [
    "# loop for selecting random Lat\n",
    "x = 1\n",
    "latitudes = []\n",
    "while x< 11:\n",
    "    random_lat = random_number = random.randint(-90, 89) + random.random()\n",
    "    latitudes.append(random_lat)\n",
    "    x+=1"
   ]
  },
  {
   "cell_type": "code",
   "execution_count": 10,
   "id": "australian-disposal",
   "metadata": {},
   "outputs": [
    {
     "data": {
      "text/plain": [
       "[-42.66549076736735,\n",
       " 63.489712895685805,\n",
       " 5.257356419084793,\n",
       " -64.31246096087807,\n",
       " 31.933853609871175,\n",
       " -50.037528398258495,\n",
       " 45.41108052613676,\n",
       " 67.06108567199368,\n",
       " 71.63396022028142,\n",
       " -15.700104868375496]"
      ]
     },
     "execution_count": 10,
     "metadata": {},
     "output_type": "execute_result"
    }
   ],
   "source": [
    "latitudes"
   ]
  },
  {
   "cell_type": "code",
   "execution_count": null,
   "id": "olive-planning",
   "metadata": {},
   "outputs": [],
   "source": [
    "#Randrange()"
   ]
  },
  {
   "cell_type": "code",
   "execution_count": 11,
   "id": "subject-dating",
   "metadata": {},
   "outputs": [
    {
     "data": {
      "text/plain": [
       "-33"
      ]
     },
     "execution_count": 11,
     "metadata": {},
     "output_type": "execute_result"
    }
   ],
   "source": [
    "random.randrange(-90, 90, step=1)"
   ]
  },
  {
   "cell_type": "code",
   "execution_count": 18,
   "id": "opponent-inventory",
   "metadata": {},
   "outputs": [
    {
     "data": {
      "text/plain": [
       "66"
      ]
     },
     "execution_count": 18,
     "metadata": {},
     "output_type": "execute_result"
    }
   ],
   "source": [
    "random.randrange(-90, 90, step=3)"
   ]
  },
  {
   "cell_type": "code",
   "execution_count": 19,
   "id": "wound-coach",
   "metadata": {},
   "outputs": [
    {
     "data": {
      "text/plain": [
       "-16.52287819136329"
      ]
     },
     "execution_count": 19,
     "metadata": {},
     "output_type": "execute_result"
    }
   ],
   "source": [
    "#unifrom()\n",
    "random.uniform(-90, 90)"
   ]
  },
  {
   "cell_type": "code",
   "execution_count": 20,
   "id": "regional-bowling",
   "metadata": {},
   "outputs": [],
   "source": [
    "# import the NumPy Module. \n",
    "import numpy as np"
   ]
  },
  {
   "cell_type": "code",
   "execution_count": 21,
   "id": "respective-transsexual",
   "metadata": {},
   "outputs": [
    {
     "data": {
      "text/plain": [
       "-32.941144856841476"
      ]
     },
     "execution_count": 21,
     "metadata": {},
     "output_type": "execute_result"
    }
   ],
   "source": [
    "np.random.uniform(-90.000, 90.000)"
   ]
  },
  {
   "cell_type": "code",
   "execution_count": 22,
   "id": "focused-humanity",
   "metadata": {},
   "outputs": [
    {
     "data": {
      "text/plain": [
       "array([ 32.79582725,  59.64734379, -63.85938125,  21.29965932,\n",
       "       -67.58116476,  -5.95883787, -37.18102528,  63.75421797,\n",
       "       -41.04612853, -71.01249754,  -3.98794798, -19.12738723,\n",
       "       -74.17563398,  79.62140534,  47.91944671,  67.9798518 ,\n",
       "       -28.44415197,  18.6712917 , -43.03245364,  70.00010511,\n",
       "       -22.10747419, -24.68312026,  53.48940112,  22.84844335,\n",
       "       -54.4561635 ,  29.92533739, -80.01190633,  25.91466667,\n",
       "         7.94896504,  69.986539  , -57.04055473, -64.71179338,\n",
       "        44.71915772, -27.67455757, -27.46939391, -39.98995759,\n",
       "        24.86586409,  77.64381367, -83.88282336, -64.2108776 ,\n",
       "       -14.68731952,  29.38215353,   9.61673555, -52.80234097,\n",
       "       -35.11814397,  84.82133243, -49.19454982, -12.39713568,\n",
       "        87.98607229,  -3.47066799])"
      ]
     },
     "execution_count": 22,
     "metadata": {},
     "output_type": "execute_result"
    }
   ],
   "source": [
    "np.random.uniform(-90.000, 90.000)"
   ]
  },
  {
   "cell_type": "code",
   "execution_count": 23,
   "id": "duplicate-shelter",
   "metadata": {},
   "outputs": [],
   "source": [
    "# Import timeit.\n",
    "import timeit"
   ]
  },
  {
   "cell_type": "code",
   "execution_count": 24,
   "id": "compatible-percentage",
   "metadata": {},
   "outputs": [
    {
     "name": "stdout",
     "output_type": "stream",
     "text": [
      "11.9 µs ± 125 ns per loop (mean ± std. dev. of 7 runs, 100000 loops each)\n"
     ]
    }
   ],
   "source": [
    "%timeit np.random.uniform(-90.000, 90.000, size=1500)"
   ]
  },
  {
   "cell_type": "code",
   "execution_count": 25,
   "id": "decent-biography",
   "metadata": {},
   "outputs": [
    {
     "name": "stdout",
     "output_type": "stream",
     "text": [
      "1.18 ms ± 11.3 µs per loop (mean ± std. dev. of 7 runs, 1000 loops each)\n"
     ]
    }
   ],
   "source": [
    "def latitudes(size):\n",
    "    latitudes = []\n",
    "    x = 0\n",
    "    while x < (size):\n",
    "        random_lat = random.randint(-90, 90) + random.random()\n",
    "        latitudes.append(random_lat)\n",
    "        x += 1\n",
    "    return latitudes\n",
    "# Call the function with 1500.\n",
    "%timeit latitudes(1500)"
   ]
  },
  {
   "cell_type": "code",
   "execution_count": 26,
   "id": "native-caution",
   "metadata": {},
   "outputs": [
    {
     "name": "stdout",
     "output_type": "stream",
     "text": [
      "17.4 ns ± 0.34 ns per loop (mean ± std. dev. of 7 runs, 100000000 loops each)\n"
     ]
    }
   ],
   "source": [
    "# loop for selecting random Lat\n",
    "x = 1\n",
    "latitudes = []\n",
    "while x< 1500:\n",
    "    random_lat = random_number = random.randint(-90, 89) + random.random()\n",
    "    latitudes.append(random_lat)\n",
    "    x+=1\n",
    "%timeit latitudes"
   ]
  },
  {
   "cell_type": "code",
   "execution_count": null,
   "id": "swedish-hours",
   "metadata": {},
   "outputs": [],
   "source": []
  }
 ],
 "metadata": {
  "kernelspec": {
   "display_name": "Python 3",
   "language": "python",
   "name": "python3"
  },
  "language_info": {
   "codemirror_mode": {
    "name": "ipython",
    "version": 3
   },
   "file_extension": ".py",
   "mimetype": "text/x-python",
   "name": "python",
   "nbconvert_exporter": "python",
   "pygments_lexer": "ipython3",
   "version": "3.8.5"
  }
 },
 "nbformat": 4,
 "nbformat_minor": 5
}
