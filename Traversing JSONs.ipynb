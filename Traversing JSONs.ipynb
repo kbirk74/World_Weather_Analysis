{
 "cells": [
  {
   "cell_type": "code",
   "execution_count": 5,
   "id": "round-eight",
   "metadata": {},
   "outputs": [],
   "source": [
    "import requests\n",
    "from config import weather_api_key"
   ]
  },
  {
   "cell_type": "code",
   "execution_count": 11,
   "id": "trained-chancellor",
   "metadata": {},
   "outputs": [],
   "source": [
    "url = \"http://api.openweathermap.org/data/2.5/weather?\"\n",
    "city = \"London\""
   ]
  },
  {
   "cell_type": "code",
   "execution_count": 12,
   "id": "marked-garlic",
   "metadata": {},
   "outputs": [],
   "source": [
    "query_url = url + \"appid=\" + weather_api_key + \"&q=\" + city"
   ]
  },
  {
   "cell_type": "code",
   "execution_count": 13,
   "id": "noticed-opera",
   "metadata": {},
   "outputs": [],
   "source": [
    "weather_response = requests.get(query_url)\n",
    "weather_json = weather_response.json()"
   ]
  },
  {
   "cell_type": "code",
   "execution_count": 22,
   "id": "acute-washer",
   "metadata": {},
   "outputs": [
    {
     "data": {
      "text/plain": [
       "{'coord': {'lon': -0.1257, 'lat': 51.5085},\n",
       " 'weather': [{'id': 802,\n",
       "   'main': 'Clouds',\n",
       "   'description': 'scattered clouds',\n",
       "   'icon': '03d'}],\n",
       " 'base': 'stations',\n",
       " 'main': {'temp': 281.74,\n",
       "  'feels_like': 276.22,\n",
       "  'temp_min': 281.48,\n",
       "  'temp_max': 282.59,\n",
       "  'pressure': 1009,\n",
       "  'humidity': 76},\n",
       " 'visibility': 10000,\n",
       " 'wind': {'speed': 6.17, 'deg': 240},\n",
       " 'clouds': {'all': 40},\n",
       " 'dt': 1616772807,\n",
       " 'sys': {'type': 1,\n",
       "  'id': 1414,\n",
       "  'country': 'GB',\n",
       "  'sunrise': 1616737751,\n",
       "  'sunset': 1616782974},\n",
       " 'timezone': 0,\n",
       " 'id': 2643743,\n",
       " 'name': 'London',\n",
       " 'cod': 200}"
      ]
     },
     "execution_count": 22,
     "metadata": {},
     "output_type": "execute_result"
    }
   ],
   "source": [
    "weather_json\n"
   ]
  },
  {
   "cell_type": "code",
   "execution_count": 16,
   "id": "final-insight",
   "metadata": {},
   "outputs": [
    {
     "data": {
      "text/plain": [
       "{'temp': 281.74,\n",
       " 'feels_like': 276.22,\n",
       " 'temp_min': 281.48,\n",
       " 'temp_max': 282.59,\n",
       " 'pressure': 1009,\n",
       " 'humidity': 76}"
      ]
     },
     "execution_count": 16,
     "metadata": {},
     "output_type": "execute_result"
    }
   ],
   "source": [
    "weather_json.get(\"main\")"
   ]
  },
  {
   "cell_type": "code",
   "execution_count": 17,
   "id": "billion-zimbabwe",
   "metadata": {},
   "outputs": [
    {
     "data": {
      "text/plain": [
       "[{'id': 802,\n",
       "  'main': 'Clouds',\n",
       "  'description': 'scattered clouds',\n",
       "  'icon': '03d'}]"
      ]
     },
     "execution_count": 17,
     "metadata": {},
     "output_type": "execute_result"
    }
   ],
   "source": [
    "weather_json.get(\"weather\")"
   ]
  },
  {
   "cell_type": "code",
   "execution_count": 18,
   "id": "alleged-actor",
   "metadata": {},
   "outputs": [
    {
     "data": {
      "text/plain": [
       "{'speed': 6.17, 'deg': 240}"
      ]
     },
     "execution_count": 18,
     "metadata": {},
     "output_type": "execute_result"
    }
   ],
   "source": [
    "weather_json.get(\"wind\")"
   ]
  },
  {
   "cell_type": "code",
   "execution_count": 19,
   "id": "adaptive-brief",
   "metadata": {},
   "outputs": [
    {
     "data": {
      "text/plain": [
       "{'lon': -0.1257, 'lat': 51.5085}"
      ]
     },
     "execution_count": 19,
     "metadata": {},
     "output_type": "execute_result"
    }
   ],
   "source": [
    "weather_json.get(\"coord\")"
   ]
  },
  {
   "cell_type": "code",
   "execution_count": 20,
   "id": "asian-carter",
   "metadata": {},
   "outputs": [
    {
     "data": {
      "text/plain": [
       "'London'"
      ]
     },
     "execution_count": 20,
     "metadata": {},
     "output_type": "execute_result"
    }
   ],
   "source": [
    "weather_json.get(\"name\")"
   ]
  },
  {
   "cell_type": "code",
   "execution_count": 21,
   "id": "coupled-escape",
   "metadata": {},
   "outputs": [
    {
     "ename": "NameError",
     "evalue": "name 'dtypr' is not defined",
     "output_type": "error",
     "traceback": [
      "\u001b[0;31m---------------------------------------------------------------------------\u001b[0m",
      "\u001b[0;31mNameError\u001b[0m                                 Traceback (most recent call last)",
      "\u001b[0;32m<ipython-input-21-3bc260c16972>\u001b[0m in \u001b[0;36m<module>\u001b[0;34m\u001b[0m\n\u001b[0;32m----> 1\u001b[0;31m \u001b[0mdtypr\u001b[0m\u001b[0;34m(\u001b[0m\u001b[0;34m\"weather\"\u001b[0m\u001b[0;34m)\u001b[0m\u001b[0;34m\u001b[0m\u001b[0;34m\u001b[0m\u001b[0m\n\u001b[0m",
      "\u001b[0;31mNameError\u001b[0m: name 'dtypr' is not defined"
     ]
    }
   ],
   "source": [
    "dtypr(\"weather\")"
   ]
  },
  {
   "cell_type": "code",
   "execution_count": null,
   "id": "offshore-episode",
   "metadata": {},
   "outputs": [],
   "source": []
  }
 ],
 "metadata": {
  "kernelspec": {
   "display_name": "Python 3",
   "language": "python",
   "name": "python3"
  },
  "language_info": {
   "codemirror_mode": {
    "name": "ipython",
    "version": 3
   },
   "file_extension": ".py",
   "mimetype": "text/x-python",
   "name": "python",
   "nbconvert_exporter": "python",
   "pygments_lexer": "ipython3",
   "version": "3.8.5"
  }
 },
 "nbformat": 4,
 "nbformat_minor": 5
}
